{
 "cells": [
  {
   "cell_type": "markdown",
   "metadata": {},
   "source": [
    "# Milestone Project 1: Walkthrough Steps Workbook\n",
    "\n",
    "Below is a set of steps for you to follow to try to create the Tic Tac Toe Milestone Project game!"
   ]
  },
  {
   "cell_type": "markdown",
   "metadata": {},
   "source": [
    "#### Some suggested tools before you get started:\n",
    "To take input from a user:\n",
    "\n",
    "    player1 = input(\"Please pick a marker 'X' or 'O'\")\n",
    "    \n",
    "Note that input() takes in a string. If you need an integer value, use\n",
    "\n",
    "    position = int(input('Please enter a number'))\n",
    "    \n",
    "<br>To clear the screen between moves:\n",
    "\n",
    "    from IPython.display import clear_output\n",
    "    clear_output()\n",
    "    \n",
    "Note that clear_output() will only work in jupyter. To clear the screen in other IDEs, consider:\n",
    "\n",
    "    print('\\n'*100)\n",
    "    \n",
    "This scrolls the previous board up out of view. Now on to the program!"
   ]
  },
  {
   "cell_type": "markdown",
   "metadata": {},
   "source": [
    "**Step 1: Write a function that can print out a board. Set up your board as a list, where each index 1-9 corresponds with a number on a number pad, so you get a 3 by 3 board representation.**"
   ]
  },
  {
   "cell_type": "code",
   "execution_count": 87,
   "metadata": {},
   "outputs": [],
   "source": [
    "from IPython.display import clear_output\n",
    "\n",
    "def display_board(board):\n",
    "    clear_output()\n",
    "    # calculate board width\n",
    "    col_num = int((len(board)-1) ** (1/2))\n",
    "    partitions = col_num - 1\n",
    "    board_width = len(board)-1 + partitions\n",
    "    display = ''\n",
    "    for i in range(board_width):\n",
    "        for j in range(board_width):\n",
    "            horizontal_border = (i+1) % 4 == 0\n",
    "            vertical_border = (j+1) % 4 == 0\n",
    "            move = (i - 1) % 4 == 0 and (j - 1) % 4 == 0\n",
    "            end_of_the_board = j == board_width - 1\n",
    "            if horizontal_border:\n",
    "                display += '-'\n",
    "            elif vertical_border:\n",
    "                display += '|'\n",
    "            elif move:\n",
    "                row = (i-1) // 4\n",
    "                col = (j-1) // 4\n",
    "                board_index = col_num * row + col + 1\n",
    "                display += board[board_index]\n",
    "            else:\n",
    "                display += ' '\n",
    "            if end_of_the_board:\n",
    "                display += '\\n'\n",
    "\n",
    "    print(display)"
   ]
  },
  {
   "cell_type": "markdown",
   "metadata": {},
   "source": [
    "**TEST Step 1:** run your function on a test version of the board list, and make adjustments as necessary"
   ]
  },
  {
   "cell_type": "code",
   "execution_count": 41,
   "metadata": {},
   "outputs": [
    {
     "name": "stdout",
     "output_type": "stream",
     "text": [
      "   |   |   \n",
      " X | O | X \n",
      "   |   |   \n",
      "-----------\n",
      "   |   |   \n",
      " O | X | O \n",
      "   |   |   \n",
      "-----------\n",
      "   |   |   \n",
      " X | O | X \n",
      "   |   |   \n",
      "\n"
     ]
    }
   ],
   "source": [
    "test_board = ['#','X','O','X','O','X','O','X','O','X']\n",
    "display_board(test_board)"
   ]
  },
  {
   "cell_type": "markdown",
   "metadata": {},
   "source": [
    "**Step 2: Write a function that can take in a player input and assign their marker as 'X' or 'O'. Think about using *while* loops to continually ask until you get a correct answer.**"
   ]
  },
  {
   "cell_type": "code",
   "execution_count": 113,
   "metadata": {},
   "outputs": [],
   "source": [
    "def player_input():\n",
    "    first_player = choose_first()\n",
    "    print(f\"{first_player} is first\")\n",
    "    marker = input(\"Please pick a marker 'X' or 'O'\")\n",
    "    \n",
    "    while marker not in ('X', 'O'):\n",
    "        marker = input(\"Please pick a marker 'X' or 'O'\")\n",
    "    return marker"
   ]
  },
  {
   "cell_type": "markdown",
   "metadata": {},
   "source": [
    "**TEST Step 2:** run the function to make sure it returns the desired output"
   ]
  },
  {
   "cell_type": "code",
   "execution_count": 43,
   "metadata": {},
   "outputs": [
    {
     "name": "stdout",
     "output_type": "stream",
     "text": [
      "Please pick a marker 'X' or 'O'Y\n",
      "Please pick a marker 'X' or 'O'O\n"
     ]
    }
   ],
   "source": [
    "player_input()"
   ]
  },
  {
   "cell_type": "markdown",
   "metadata": {},
   "source": [
    "**Step 3: Write a function that takes in the board list object, a marker ('X' or 'O'), and a desired position (number 1-9) and assigns it to the board.**"
   ]
  },
  {
   "cell_type": "code",
   "execution_count": 44,
   "metadata": {},
   "outputs": [],
   "source": [
    "def place_marker(board, marker, position):\n",
    "    board[position] = marker"
   ]
  },
  {
   "cell_type": "markdown",
   "metadata": {},
   "source": [
    "**TEST Step 3:** run the place marker function using test parameters and display the modified board"
   ]
  },
  {
   "cell_type": "code",
   "execution_count": 45,
   "metadata": {},
   "outputs": [
    {
     "name": "stdout",
     "output_type": "stream",
     "text": [
      "   |   |   \n",
      " X | O | X \n",
      "   |   |   \n",
      "-----------\n",
      "   |   |   \n",
      " O | X | O \n",
      "   |   |   \n",
      "-----------\n",
      "   |   |   \n",
      " X | $ | X \n",
      "   |   |   \n",
      "\n"
     ]
    }
   ],
   "source": [
    "place_marker(test_board,'$',8)\n",
    "display_board(test_board)"
   ]
  },
  {
   "cell_type": "markdown",
   "metadata": {},
   "source": [
    "**Step 4: Write a function that takes in a board and a mark (X or O) and then checks to see if that mark has won. **"
   ]
  },
  {
   "cell_type": "code",
   "execution_count": 77,
   "metadata": {},
   "outputs": [],
   "source": [
    "def win_check(board, mark):\n",
    "    row_length = int((len(board)-1) ** (1/2))\n",
    "    col_length = row_length\n",
    "    # check horizontally\n",
    "    for i in range(1, len(board), row_length):\n",
    "        row = board[i:i+row_length]\n",
    "        if row.count(mark) == row_length:\n",
    "            return True\n",
    "        \n",
    "    # check vertically\n",
    "    for col in range(col_length):\n",
    "        vertical_count = 0\n",
    "        for row in range(row_length):\n",
    "            if board[row*row_length+col+1] == mark:\n",
    "                vertical_count += 1\n",
    "        if vertical_count == col_length:\n",
    "            return True\n",
    "    \n",
    "    # check diagonally\n",
    "    left_diagonal, right_diagonal, curr_col = 0, 0, 0\n",
    "    for i in range(row_length):\n",
    "        if board[i*row_length+curr_col+1] == mark:\n",
    "            left_diagonal += 1\n",
    "        if board[i*row_length+(col_length-1-curr_col)+1] == mark:\n",
    "            right_diagonal += 1\n",
    "        curr_col += 1\n",
    "    return left_diagonal == row_length or right_diagonal == row_length"
   ]
  },
  {
   "cell_type": "markdown",
   "metadata": {},
   "source": [
    "**TEST Step 4:** run the win_check function against our test_board - it should return True"
   ]
  },
  {
   "cell_type": "code",
   "execution_count": 78,
   "metadata": {},
   "outputs": [
    {
     "data": {
      "text/plain": [
       "True"
      ]
     },
     "execution_count": 78,
     "metadata": {},
     "output_type": "execute_result"
    }
   ],
   "source": [
    "win_check(test_board,'X')"
   ]
  },
  {
   "cell_type": "markdown",
   "metadata": {},
   "source": [
    "**Step 5: Write a function that uses the random module to randomly decide which player goes first. You may want to lookup random.randint() Return a string of which player went first.**"
   ]
  },
  {
   "cell_type": "code",
   "execution_count": 84,
   "metadata": {},
   "outputs": [],
   "source": [
    "import random\n",
    "\n",
    "def choose_first():\n",
    "    return 'player0' if random.randint(0, 1) == 0 else 'player1'"
   ]
  },
  {
   "cell_type": "markdown",
   "metadata": {},
   "source": [
    "**Step 6: Write a function that returns a boolean indicating whether a space on the board is freely available.**"
   ]
  },
  {
   "cell_type": "code",
   "execution_count": 107,
   "metadata": {},
   "outputs": [],
   "source": [
    "def space_check(board, position):\n",
    "    print(board[position])\n",
    "    return board[position] == ' '"
   ]
  },
  {
   "cell_type": "markdown",
   "metadata": {},
   "source": [
    "**Step 7: Write a function that checks if the board is full and returns a boolean value. True if full, False otherwise.**"
   ]
  },
  {
   "cell_type": "code",
   "execution_count": 105,
   "metadata": {},
   "outputs": [],
   "source": [
    "def full_board_check(board):\n",
    "    for i in range(1, len(board)):\n",
    "        if board[i] == ' ':\n",
    "            return False\n",
    "    return True"
   ]
  },
  {
   "cell_type": "markdown",
   "metadata": {},
   "source": [
    "**Step 8: Write a function that asks for a player's next position (as a number 1-9) and then uses the function from step 6 to check if it's a free position. If it is, then return the position for later use.**"
   ]
  },
  {
   "cell_type": "code",
   "execution_count": null,
   "metadata": {},
   "outputs": [],
   "source": [
    "def player_choice(board):\n",
    "    choice = int(input('Please pick next position (1-9): '))\n",
    "    \n",
    "    while True:\n",
    "        if choice < 1 or choice > 9:\n",
    "            choice = int(input(\"Choice is invalid, please pick a number between 1 - 9 inclusive: \"))\n",
    "        elif not space_check(board, choice):\n",
    "            choice = int(input(\"Space is not empty, pick another: \"))\n",
    "        else:\n",
    "            break\n",
    "    return choice"
   ]
  },
  {
   "cell_type": "markdown",
   "metadata": {},
   "source": [
    "**Step 9: Write a function that asks the player if they want to play again and returns a boolean True if they do want to play again.**"
   ]
  },
  {
   "cell_type": "code",
   "execution_count": 119,
   "metadata": {},
   "outputs": [],
   "source": [
    "def replay():\n",
    "    replay = input(\"Would you like to play again?: \").lower()\n",
    "    return replay in ['yes', 'y']  "
   ]
  },
  {
   "cell_type": "markdown",
   "metadata": {
    "collapsed": true
   },
   "source": [
    "**Step 10: Here comes the hard part! Use while loops and the functions you've made to run the game!**"
   ]
  },
  {
   "cell_type": "code",
   "execution_count": 125,
   "metadata": {},
   "outputs": [
    {
     "name": "stdout",
     "output_type": "stream",
     "text": [
      "   |   |   \n",
      "   | X | O \n",
      "   |   |   \n",
      "-----------\n",
      "   |   |   \n",
      " X | O |   \n",
      "   |   |   \n",
      "-----------\n",
      "   |   |   \n",
      " O |   |   \n",
      "   |   |   \n",
      "\n",
      "First player won!\n",
      "Would you like to play again?: n\n"
     ]
    }
   ],
   "source": [
    "print('Welcome to Tic Tac Toe!')\n",
    "\n",
    "while True:\n",
    "    # Set the game up here\n",
    "    first_player_mark = player_input()\n",
    "    second_player_mark = 'O' if first_player_mark == 'X' else 'X'\n",
    "    board = ['#'] + [' '] * 9\n",
    "    second_won = False\n",
    "    full = full_board_check(board)\n",
    "    \n",
    "    while not second_won and not full:\n",
    "        # Player1's turn.\n",
    "        print(f\"First player's turn\")\n",
    "        first_choice = player_choice(board)\n",
    "        place_marker(board, first_player_mark, int(first_choice))\n",
    "        display_board(board)\n",
    "        if win_check(board, first_player_mark):\n",
    "            print(\"First player won!\")\n",
    "            break\n",
    "        \n",
    "        # Player2's turn.\n",
    "        print(f\"Second player's turn\")\n",
    "        second_choice = player_choice(board)\n",
    "        place_marker(board, second_player_mark, int(second_choice))\n",
    "        display_board(board)\n",
    "        second_won = win_check(board, second_player_mark)\n",
    "    \n",
    "    if second_won:\n",
    "        print(\"Second player won!\")\n",
    "    elif full:\n",
    "        print(f\"Ah! it's a tie\")\n",
    "    \n",
    "    if not replay():\n",
    "        break"
   ]
  },
  {
   "cell_type": "markdown",
   "metadata": {
    "collapsed": true
   },
   "source": [
    "## Good Job!"
   ]
  },
  {
   "cell_type": "code",
   "execution_count": null,
   "metadata": {},
   "outputs": [],
   "source": []
  }
 ],
 "metadata": {
  "kernelspec": {
   "display_name": "Python [default]",
   "language": "python",
   "name": "python3"
  },
  "language_info": {
   "codemirror_mode": {
    "name": "ipython",
    "version": 3
   },
   "file_extension": ".py",
   "mimetype": "text/x-python",
   "name": "python",
   "nbconvert_exporter": "python",
   "pygments_lexer": "ipython3",
   "version": "3.6.0"
  }
 },
 "nbformat": 4,
 "nbformat_minor": 1
}
